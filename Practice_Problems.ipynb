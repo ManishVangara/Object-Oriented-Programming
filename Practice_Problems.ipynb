{
 "cells": [
  {
   "attachments": {},
   "cell_type": "markdown",
   "metadata": {},
   "source": [
    "1. Write a program to print the area and perimeter of a triangle having sides of 3, 4, and 5 units by creating a class named 'Triangle' without any parameter in its constructor."
   ]
  },
  {
   "cell_type": "code",
   "execution_count": 2,
   "metadata": {},
   "outputs": [
    {
     "name": "stdout",
     "output_type": "stream",
     "text": [
      "Perimeter of the triangle: 12\n",
      "Area of the traingle: 6.0\n"
     ]
    }
   ],
   "source": [
    "import math\n",
    "class Triangle():\n",
    "    def __init__(self):\n",
    "        self.a = 3\n",
    "        self.b = 4\n",
    "        self.c = 5\n",
    "    \n",
    "    def perimeter(self):\n",
    "        return self.a + self.b + self.c\n",
    "    \n",
    "    def area(self):\n",
    "        s = (self.a + self.b + self.c)/2\n",
    "        return math.sqrt(s* (s - self.a) * (s - self.b) * (s - self.c))\n",
    "\n",
    "t = Triangle()\n",
    "print(f'Perimeter of the triangle: {t.perimeter()}')\n",
    "print(f'Area of the traingle: {t.area()}')"
   ]
  },
  {
   "attachments": {},
   "cell_type": "markdown",
   "metadata": {},
   "source": [
    "2. Print the average of three numbers entered by user creating a class named 'Average' having a method to calculate and print the average."
   ]
  },
  {
   "cell_type": "code",
   "execution_count": 13,
   "metadata": {},
   "outputs": [
    {
     "name": "stdout",
     "output_type": "stream",
     "text": [
      "The average of the numbers 11.33\n",
      "The number average is Rs. 11.3\n"
     ]
    }
   ],
   "source": [
    "class Average():\n",
    "\n",
    "    def __init__(self, num1, num2, num3):\n",
    "        self.num1 = num1\n",
    "        self.num2 = num2\n",
    "        self.num3 = num3\n",
    "\n",
    "    def calculate(self):\n",
    "        return (float(self.num1)+float(self.num2)+float(self.num3))/3\n",
    "    \n",
    "numbers = Average(2, 20, 12)\n",
    "print('The average of the numbers', '{:0.2f}'.format(numbers.calculate()))\n",
    "\n",
    "print(f'The number average is Rs. %.1f' % numbers.calculate())\n"
   ]
  },
  {
   "attachments": {},
   "cell_type": "markdown",
   "metadata": {},
   "source": [
    "3. Print the sum, difference and product of two complex numbers by creating a class named 'Complex' with separate methods for each operation whose real and imaginary parts are entered by user."
   ]
  },
  {
   "cell_type": "code",
   "execution_count": 14,
   "metadata": {},
   "outputs": [
    {
     "name": "stdout",
     "output_type": "stream",
     "text": [
      "Sum of the complex numbers: 7.0+9.0i\n",
      "Difference of the complex numbers: -3.0+-3.0i\n",
      "Product of the complex numbers: -8.0+27.0i\n"
     ]
    }
   ],
   "source": [
    "class Complex():\n",
    "    def __init__(self, real=0, imag=0):\n",
    "        self.real = real\n",
    "        self.imag = imag\n",
    "    \n",
    "    def add(self, c2):\n",
    "        res_real = self.real + c2.real\n",
    "        res_imag = self.imag + c2.imag\n",
    "        print(f'Sum of the complex numbers: {res_real}+{res_imag}i')\n",
    "    \n",
    "    def subract(self, c2):\n",
    "        res_real = self.real - c2.real\n",
    "        res_imag = self.imag - c2.imag\n",
    "        print(f'Difference of the complex numbers: {res_real}+{res_imag}i')\n",
    "    \n",
    "    def multiply(self, c2):\n",
    "        res_real = (self.real * c2.real) - (self.imag * c2.imag)\n",
    "        res_imag = (self.real * c2.imag) + (self.imag * c2.real)\n",
    "        print(f'Product of the complex numbers: {res_real}+{res_imag}i')\n",
    "    \n",
    "c1 = Complex(float(input('Enter the real part: ')), float(input('Enter the imaginary part: ')))\n",
    "c2 = Complex(float(input('Enter the real part: ')), float(input('Enter the imaginary part: ')))\n",
    "\n",
    "c1.add(c2)\n",
    "c1.subract(c2)\n",
    "c1.multiply(c2)\n",
    "\n"
   ]
  },
  {
   "attachments": {},
   "cell_type": "markdown",
   "metadata": {},
   "source": [
    "##### Write a program by creating an 'Employee' class having the following methods and print the final salary.\n",
    "\n",
    "1. `getInfo()` which takes the salary, number of hours of work per day of employee as parameter.\n",
    "2. `AddSal()` which adds $10 to salary of the employee if it is less than $500. \n",
    "3. 'AddWork()` which adds $5 to salary of employee if the number of hours of work per day is more than 6 hours."
   ]
  },
  {
   "cell_type": "code",
   "execution_count": 15,
   "metadata": {},
   "outputs": [],
   "source": [
    "class Employee():\n",
    "    def getInfo(self, salary, work_hours):\n",
    "        self.salary = salary\n",
    "        self.work_hours = work_hours\n",
    "    \n",
    "    def AddSal(self):\n",
    "        if self.salary < 500:\n",
    "            self.salary += 10\n",
    "    \n",
    "    def AddWork(self):\n",
    "        if self.work_hours > 6:\n",
    "            self.salary += 5\n",
    "    \n",
    "    def printSalary(self):\n",
    "        print('Final Salary: $', self.salary)\n",
    "        "
   ]
  },
  {
   "cell_type": "code",
   "execution_count": 16,
   "metadata": {},
   "outputs": [],
   "source": [
    "emp = Employee()"
   ]
  },
  {
   "cell_type": "code",
   "execution_count": 17,
   "metadata": {},
   "outputs": [],
   "source": [
    "emp.getInfo(480, 9)"
   ]
  },
  {
   "cell_type": "code",
   "execution_count": 18,
   "metadata": {},
   "outputs": [],
   "source": [
    "emp.AddSal()\n",
    "emp.AddWork()\n"
   ]
  },
  {
   "cell_type": "code",
   "execution_count": 19,
   "metadata": {},
   "outputs": [
    {
     "name": "stdout",
     "output_type": "stream",
     "text": [
      "Final Salary: $ 495\n"
     ]
    }
   ],
   "source": [
    "emp.printSalary()"
   ]
  },
  {
   "attachments": {},
   "cell_type": "markdown",
   "metadata": {},
   "source": [
    "#### Create a class called 'Matrix' containing constructor that initializes the number of rows and number of columns of a new Matrix object. The Matrix class has the following information:\n",
    "\n",
    "1. number of rows of matrix\n",
    "2. number of columns of matrix\n",
    "3. elements of matrix in the form of 2D array.\n",
    "\n",
    "The Matrix class has methods for each of the following:\n",
    "\n",
    "1. get the number of rows\n",
    "2. get the number of columns\n",
    "3. set the elements of the matrix at given position(i,j)\n",
    "4. adding two matrices. If the matrices are not addable, \"Matrices cannot be added\" will be displayed.\n",
    "5. multiplying the two matrices"
   ]
  },
  {
   "cell_type": "code",
   "execution_count": 20,
   "metadata": {},
   "outputs": [
    {
     "ename": "SyntaxError",
     "evalue": "incomplete input (331244543.py, line 11)",
     "output_type": "error",
     "traceback": [
      "\u001b[0;36m  Cell \u001b[0;32mIn[20], line 11\u001b[0;36m\u001b[0m\n\u001b[0;31m    def set_elements(self,i,j):\u001b[0m\n\u001b[0m                               ^\u001b[0m\n\u001b[0;31mSyntaxError\u001b[0m\u001b[0;31m:\u001b[0m incomplete input\n"
     ]
    }
   ],
   "source": [
    "class Matrix():\n",
    "    def __init__(self, rows, columns):\n",
    "        self.rows = rows\n",
    "        self.columns = columns\n",
    "        self.matrix = None\n",
    "\n",
    "    def get_rows(self):\n",
    "        return self.rows\n",
    "    def get_columns(self):\n",
    "        return self.columns\n",
    "    \n",
    "    def set_elements(self,i,j):\n",
    "        pass\n",
    "\n",
    "    def add(self, m1):\n",
    "        return (self.matrix + m1.matrix)\n",
    "\n",
    "    def multiply(self, m1):\n",
    "        return (self.matrix * m1.matrix)"
   ]
  },
  {
   "cell_type": "code",
   "execution_count": null,
   "metadata": {},
   "outputs": [],
   "source": [
    "class Matrix:\n",
    "    def __init__(self, rows, cols, elements=None):\n",
    "        self.rows = rows\n",
    "        self.cols = cols\n",
    "        if elements:\n",
    "            self.elements = elements\n",
    "        else:\n",
    "            self.elements = [[0 for j in range(cols)] for i in range(rows)]\n",
    "            \n",
    "    def get_rows(self):\n",
    "        return self.rows\n",
    "    \n",
    "    def get_cols(self):\n",
    "        return self.cols\n",
    "    \n",
    "    def set_element(self, i, j, val):\n",
    "        self.elements[i][j] = val\n",
    "        \n",
    "    def add_matrix(self, other_matrix):\n",
    "        if self.rows != other_matrix.get_rows() or self.cols != other_matrix.get_cols():\n",
    "            print(\"Matrices cannot be added\")\n",
    "            return None\n",
    "        \n",
    "        result = Matrix(self.rows, self.cols)\n",
    "        for i in range(self.rows):\n",
    "            for j in range(self.cols):\n",
    "                result.elements[i][j] = self.elements[i][j] + other_matrix.elements[i][j]\n",
    "        return result\n",
    "    \n",
    "    def multiply_matrix(self, other_matrix):\n",
    "        if self.cols != other_matrix.get_rows():\n",
    "            print(\"Matrices cannot be multiplied\")\n",
    "            return None\n",
    "        \n",
    "        result = Matrix(self.rows, other_matrix.get_cols())\n",
    "        for i in range(self.rows):\n",
    "            for j in range(other_matrix.get_cols()):\n",
    "                for k in range(self.cols):\n",
    "                    result.elements[i][j] += self.elements[i][k] * other_matrix.elements[k][j]\n",
    "        return result\n"
   ]
  }
 ],
 "metadata": {
  "kernelspec": {
   "display_name": "Python 3",
   "language": "python",
   "name": "python3"
  },
  "language_info": {
   "codemirror_mode": {
    "name": "ipython",
    "version": 3
   },
   "file_extension": ".py",
   "mimetype": "text/x-python",
   "name": "python",
   "nbconvert_exporter": "python",
   "pygments_lexer": "ipython3",
   "version": "3.11.2"
  },
  "orig_nbformat": 4
 },
 "nbformat": 4,
 "nbformat_minor": 2
}

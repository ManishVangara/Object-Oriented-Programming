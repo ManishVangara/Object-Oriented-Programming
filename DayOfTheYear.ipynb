{
 "cells": [
  {
   "attachments": {},
   "cell_type": "markdown",
   "metadata": {},
   "source": [
    "Create a class to identify the leap year and details."
   ]
  },
  {
   "cell_type": "code",
   "execution_count": 98,
   "metadata": {},
   "outputs": [],
   "source": [
    "class ValidateYearDetails():\n",
    "    def __init__(self, year, month, day):\n",
    "        self.year = year\n",
    "        self.month = month\n",
    "        self.day = day\n",
    "    \n",
    "    # Setter Methods\n",
    "    def set_year(self, year):\n",
    "        self.year = year\n",
    "    def set_month(self, month):\n",
    "        self.month = month\n",
    "    def set_day(self, day):\n",
    "        self.day = day\n",
    "    \n",
    "    # Getter Methods\n",
    "    def get_year(self):\n",
    "        return self.year\n",
    "    def get_month(self):\n",
    "        return self.month\n",
    "    def get_day(self):\n",
    "        return self.day\n",
    "    \n",
    "    # Methods -- Main\n",
    "    def is_leap_year(self):\n",
    "        if self.year < 1582:\n",
    "            # print('Not within the Gregorian calendar period!')\n",
    "            return False\n",
    "        elif self.year % 4 != 0:\n",
    "            # print('Common Year')\n",
    "            return False\n",
    "        elif self.year % 100 == 0 and self.year % 400 == 0:\n",
    "            # print('This is a centurial leap year')\n",
    "            return True\n",
    "        elif self.year % 100 == 0 and self.year % 400 != 0:\n",
    "            # print('This is a centurial year but not a leap year')\n",
    "            return False\n",
    "        else:\n",
    "            # print('This is a leap year')\n",
    "            return True\n",
    "    \n",
    "    def days_in_month(self):\n",
    "        numDaysInMonth = [31, 28, 31, 30, 31, 30, 31, 31, 30, 31, 30, 31]\n",
    "\n",
    "        if self.year < 1582 and self.month < 1 and self.month > 12:\n",
    "            return None\n",
    "        elif self.is_leap_year() and self.month == 2:\n",
    "            return 29\n",
    "        else:\n",
    "            return numDaysInMonth[self.month - 1]\n",
    "        \n",
    "    def dayofYear(self):\n",
    "        if self.year < 1582:\n",
    "            return None\n",
    "        elif self.month > 12 or self.month < 1:\n",
    "            return None\n",
    "        elif self.day > 31 or self.day < 1:\n",
    "            return None\n",
    "        \n",
    "        totalDays = self.day\n",
    "        month = self.month - 1\n",
    "        while month > 0:\n",
    "            totalDays += self.days_in_month()\n",
    "            month -= 1\n",
    "        return totalDays\n"
   ]
  },
  {
   "cell_type": "code",
   "execution_count": 99,
   "metadata": {},
   "outputs": [],
   "source": [
    "year1 = ValidateYearDetails(2001, 12, 1)\n",
    "year2 = ValidateYearDetails(2004, 3, 11)\n",
    "year3 = ValidateYearDetails(2009, 5, 16)\n",
    "year4 = ValidateYearDetails(2012, 11, 2)\n",
    "year5 = ValidateYearDetails(2016, 7, 16)"
   ]
  },
  {
   "cell_type": "code",
   "execution_count": 100,
   "metadata": {},
   "outputs": [
    {
     "name": "stdout",
     "output_type": "stream",
     "text": [
      "False\n",
      "True\n",
      "False\n"
     ]
    }
   ],
   "source": [
    "print(year1.is_leap_year())\n",
    "print(year2.is_leap_year())\n",
    "print(year3.is_leap_year())\n"
   ]
  },
  {
   "cell_type": "code",
   "execution_count": 101,
   "metadata": {},
   "outputs": [],
   "source": [
    "year1.set_year(2008)"
   ]
  },
  {
   "cell_type": "code",
   "execution_count": 102,
   "metadata": {},
   "outputs": [
    {
     "data": {
      "text/plain": [
       "2008"
      ]
     },
     "execution_count": 102,
     "metadata": {},
     "output_type": "execute_result"
    }
   ],
   "source": [
    "year1.get_year()"
   ]
  },
  {
   "cell_type": "code",
   "execution_count": 103,
   "metadata": {},
   "outputs": [
    {
     "data": {
      "text/plain": [
       "12"
      ]
     },
     "execution_count": 103,
     "metadata": {},
     "output_type": "execute_result"
    }
   ],
   "source": [
    "year1.get_month()"
   ]
  },
  {
   "cell_type": "code",
   "execution_count": 104,
   "metadata": {},
   "outputs": [
    {
     "data": {
      "text/plain": [
       "11"
      ]
     },
     "execution_count": 104,
     "metadata": {},
     "output_type": "execute_result"
    }
   ],
   "source": [
    "year2.get_day()"
   ]
  },
  {
   "cell_type": "code",
   "execution_count": 105,
   "metadata": {},
   "outputs": [
    {
     "data": {
      "text/plain": [
       "1"
      ]
     },
     "execution_count": 105,
     "metadata": {},
     "output_type": "execute_result"
    }
   ],
   "source": [
    "year1.get_day()"
   ]
  },
  {
   "cell_type": "code",
   "execution_count": 106,
   "metadata": {},
   "outputs": [
    {
     "data": {
      "text/plain": [
       "2008"
      ]
     },
     "execution_count": 106,
     "metadata": {},
     "output_type": "execute_result"
    }
   ],
   "source": [
    "year1.get_year()"
   ]
  },
  {
   "cell_type": "code",
   "execution_count": 107,
   "metadata": {},
   "outputs": [
    {
     "data": {
      "text/plain": [
       "True"
      ]
     },
     "execution_count": 107,
     "metadata": {},
     "output_type": "execute_result"
    }
   ],
   "source": [
    "year1.is_leap_year()"
   ]
  },
  {
   "cell_type": "code",
   "execution_count": null,
   "metadata": {},
   "outputs": [],
   "source": []
  }
 ],
 "metadata": {
  "kernelspec": {
   "display_name": "Python 3",
   "language": "python",
   "name": "python3"
  },
  "language_info": {
   "codemirror_mode": {
    "name": "ipython",
    "version": 3
   },
   "file_extension": ".py",
   "mimetype": "text/x-python",
   "name": "python",
   "nbconvert_exporter": "python",
   "pygments_lexer": "ipython3",
   "version": "3.11.2"
  },
  "orig_nbformat": 4
 },
 "nbformat": 4,
 "nbformat_minor": 2
}
